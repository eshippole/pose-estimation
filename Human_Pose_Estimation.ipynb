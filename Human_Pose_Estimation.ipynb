{
  "nbformat": 4,
  "nbformat_minor": 0,
  "metadata": {
    "colab": {
      "name": "Human_Pose_Estimation.ipynb",
      "provenance": [],
      "collapsed_sections": [],
      "authorship_tag": "ABX9TyNZ9IZSV/zw5oB0R2b/2ymD",
      "include_colab_link": true
    },
    "kernelspec": {
      "name": "python3",
      "display_name": "Python 3"
    }
  },
  "cells": [
    {
      "cell_type": "markdown",
      "metadata": {
        "id": "view-in-github",
        "colab_type": "text"
      },
      "source": [
        "<a href=\"https://colab.research.google.com/github/eshippole/pose-estimation/blob/main/Human_Pose_Estimation.ipynb\" target=\"_parent\"><img src=\"https://colab.research.google.com/assets/colab-badge.svg\" alt=\"Open In Colab\"/></a>"
      ]
    },
    {
      "cell_type": "code",
      "metadata": {
        "id": "OC-Dn8WHoSIR"
      },
      "source": [
        "from scipy.io import loadmat\r\n",
        "import numpy as np\r\n",
        "import pandas as pd\r\n",
        "from PIL import Image, ImageShow\r\n",
        "\r\n"
      ],
      "execution_count": null,
      "outputs": []
    },
    {
      "cell_type": "code",
      "metadata": {
        "colab": {
          "base_uri": "https://localhost:8080/"
        },
        "id": "ZvwlxEjfdDZu",
        "outputId": "8d02d087-058a-45cf-a492-2ef4ac59c9c1"
      },
      "source": [
        "!wget http://ufldl.stanford.edu/housenumbers/train_32x32.mat\r\n",
        "!wget http://ufldl.stanford.edu/housenumbers/test_32x32.mat\r\n",
        "train = loadmat('train_32x32.mat')\r\n",
        "test = loadmat('test_32x32.mat')\r\n"
      ],
      "execution_count": null,
      "outputs": [
        {
          "output_type": "stream",
          "text": [
            "--2021-01-08 03:49:19--  http://ufldl.stanford.edu/housenumbers/train_32x32.mat\n",
            "Resolving ufldl.stanford.edu (ufldl.stanford.edu)... 171.64.68.10\n",
            "Connecting to ufldl.stanford.edu (ufldl.stanford.edu)|171.64.68.10|:80... connected.\n",
            "HTTP request sent, awaiting response... 200 OK\n",
            "Length: 182040794 (174M) [text/plain]\n",
            "Saving to: ‘train_32x32.mat.2’\n",
            "\n",
            "train_32x32.mat.2   100%[===================>] 173.61M  18.5MB/s    in 13s     \n",
            "\n",
            "2021-01-08 03:49:32 (13.6 MB/s) - ‘train_32x32.mat.2’ saved [182040794/182040794]\n",
            "\n",
            "--2021-01-08 03:49:32--  http://ufldl.stanford.edu/housenumbers/test_32x32.mat\n",
            "Resolving ufldl.stanford.edu (ufldl.stanford.edu)... 171.64.68.10\n",
            "Connecting to ufldl.stanford.edu (ufldl.stanford.edu)|171.64.68.10|:80... connected.\n",
            "HTTP request sent, awaiting response... 200 OK\n",
            "Length: 64275384 (61M) [text/plain]\n",
            "Saving to: ‘test_32x32.mat.2’\n",
            "\n",
            "test_32x32.mat.2    100%[===================>]  61.30M  17.0MB/s    in 6.6s    \n",
            "\n",
            "2021-01-08 03:49:39 (9.23 MB/s) - ‘test_32x32.mat.2’ saved [64275384/64275384]\n",
            "\n"
          ],
          "name": "stdout"
        }
      ]
    },
    {
      "cell_type": "code",
      "metadata": {
        "id": "wg0FefV3HCWr"
      },
      "source": [
        "X_train, y_train = train['X'], train['y']\r\n",
        "X_test, y_test = test['X'], test['y']"
      ],
      "execution_count": null,
      "outputs": []
    },
    {
      "cell_type": "code",
      "metadata": {
        "colab": {
          "base_uri": "https://localhost:8080/"
        },
        "id": "Aw7JGp_-HiTl",
        "outputId": "6f2a2d4c-c172-4a4e-b901-6e09fca9b186"
      },
      "source": [
        "print(X_train.shape)\r\n",
        "print(y_train.shape)\r\n",
        "print(X_test.shape)\r\n",
        "print(y_test.shape)"
      ],
      "execution_count": null,
      "outputs": [
        {
          "output_type": "stream",
          "text": [
            "(32, 32, 3, 73257)\n",
            "(73257, 1)\n",
            "(32, 32, 3, 26032)\n",
            "(26032, 1)\n"
          ],
          "name": "stdout"
        }
      ]
    },
    {
      "cell_type": "code",
      "metadata": {
        "colab": {
          "base_uri": "https://localhost:8080/"
        },
        "id": "xBn7ivXhIESB",
        "outputId": "872e4fad-cac7-46f8-acb3-8cef0f3ac0ff"
      },
      "source": [
        "numberTraining = X_train.shape[3] + X_test.shape[3]\r\n",
        "print(\"Total examples:\", numberTraining)"
      ],
      "execution_count": null,
      "outputs": [
        {
          "output_type": "stream",
          "text": [
            "Total examples: 99289\n"
          ],
          "name": "stdout"
        }
      ]
    },
    {
      "cell_type": "code",
      "metadata": {
        "colab": {
          "base_uri": "https://localhost:8080/",
          "height": 179
        },
        "id": "rLOmdIDmQGfu",
        "outputId": "2e74a3d9-3a57-42b3-8925-ceb6cb00a6d9"
      },
      "source": [
        "img = np.array((X_train))\r\n",
        "print(img.shape)\r\n",
        "print(img[:,:,:,0].shape)\r\n",
        "house_number = Image.fromarray(img[:,:,:,0])\r\n",
        "out = house_number.resize((128, 128)) \r\n",
        "display(out)"
      ],
      "execution_count": null,
      "outputs": [
        {
          "output_type": "stream",
          "text": [
            "(32, 32, 3, 73257)\n",
            "(32, 32, 3)\n"
          ],
          "name": "stdout"
        },
        {
          "output_type": "display_data",
          "data": {
            "image/png": "[encoded data removed]",
            "text/plain": [
              "<PIL.Image.Image image mode=RGB size=128x128 at 0x7F973B785128>"
            ]
          },
          "metadata": {
            "tags": []
          }
        }
      ]
    },
    {
      "cell_type": "code",
      "metadata": {
        "colab": {
          "base_uri": "https://localhost:8080/"
        },
        "id": "0Xp2MrCmUcU-",
        "outputId": "2c401935-5590-4d3d-c19b-453e38e273e4"
      },
      "source": [
        "y_train[y_train == 10] = 0\r\n",
        "print(np.unique(y_train))\r\n"
      ],
      "execution_count": null,
      "outputs": [
        {
          "output_type": "stream",
          "text": [
            "[0 1 2 3 4 5 6 7 8 9]\n"
          ],
          "name": "stdout"
        }
      ]
    },
    {
      "cell_type": "code",
      "metadata": {
        "colab": {
          "base_uri": "https://localhost:8080/",
          "height": 683
        },
        "id": "nWkaIkPvCk5q",
        "outputId": "7b519ffa-3c70-4b89-e61f-c9d8b939c369"
      },
      "source": [
        "# This code downloads the coco dataset from Amazon S3 in parallel.\r\n",
        "!pip install boto3\r\n",
        "import boto3\r\n",
        "from botocore import UNSIGNED\r\n",
        "from botocore.client import Config\r\n",
        "import multiprocessing\r\n",
        "import subprocess\r\n",
        "files = ['val2017.zip', 'annotations_trainval2017.zip', 'train2017.zip']\r\n",
        "\r\n",
        "s3 = boto3.client('s3', config=Config(signature_version=UNSIGNED))\r\n",
        "def download_and_unzip_from_s3(file_name, bucket_name='fast-ai-coco'):\r\n",
        "    print(\"Downloading\", file_name)\r\n",
        "    s3.download_file(bucket_name, file_name, file_name)\r\n",
        "    print(\"Finished downloading\", file_name, \". Starting to unzip.\")\r\n",
        "    subprocess.run([\"unzip\", file_name])\r\n",
        "    print(\"Finished unzipping\", file_name)\r\n",
        "\r\n",
        "# Download in parallel\r\n",
        "num_cpus = multiprocessing.cpu_count()\r\n",
        "with multiprocessing.Pool(num_cpus) as p:\r\n",
        "    p.map(download_and_unzip_from_s3, files)\r\n",
        "\r\n",
        "print(\"Done transferring all datasets\")"
      ],
      "execution_count": null,
      "outputs": [
        {
          "output_type": "stream",
          "text": [
            "Collecting boto3\n",
            "\u001b[?25l  Downloading https://files.pythonhosted.org/packages/7b/ca/0f23585f1409bb37a6664e6b1f0569905cf4a84892d53960b4405ba9b033/boto3-1.16.51-py2.py3-none-any.whl (130kB)\n",
            "\u001b[K     |████████████████████████████████| 133kB 13.6MB/s \n",
            "\u001b[?25hCollecting s3transfer<0.4.0,>=0.3.0\n",
            "\u001b[?25l  Downloading https://files.pythonhosted.org/packages/69/79/e6afb3d8b0b4e96cefbdc690f741d7dd24547ff1f94240c997a26fa908d3/s3transfer-0.3.3-py2.py3-none-any.whl (69kB)\n",
            "\u001b[K     |████████████████████████████████| 71kB 5.7MB/s \n",
            "\u001b[?25hCollecting botocore<1.20.0,>=1.19.51\n",
            "\u001b[?25l  Downloading https://files.pythonhosted.org/packages/ae/b8/c7dc86b84f72dd332e1e28014ba315c901c13f19e7d6a07b2ebcdc2c87d4/botocore-1.19.51-py2.py3-none-any.whl (7.2MB)\n",
            "\u001b[K     |████████████████████████████████| 7.2MB 16.9MB/s \n",
            "\u001b[?25hCollecting jmespath<1.0.0,>=0.7.1\n",
            "  Downloading https://files.pythonhosted.org/packages/07/cb/5f001272b6faeb23c1c9e0acc04d48eaaf5c862c17709d20e3469c6e0139/jmespath-0.10.0-py2.py3-none-any.whl\n",
            "Requirement already satisfied: python-dateutil<3.0.0,>=2.1 in /usr/local/lib/python3.6/dist-packages (from botocore<1.20.0,>=1.19.51->boto3) (2.8.1)\n",
            "Collecting urllib3<1.27,>=1.25.4; python_version != \"3.4\"\n",
            "\u001b[?25l  Downloading https://files.pythonhosted.org/packages/f5/71/45d36a8df68f3ebb098d6861b2c017f3d094538c0fb98fa61d4dc43e69b9/urllib3-1.26.2-py2.py3-none-any.whl (136kB)\n",
            "\u001b[K     |████████████████████████████████| 143kB 54.9MB/s \n",
            "\u001b[?25hRequirement already satisfied: six>=1.5 in /usr/local/lib/python3.6/dist-packages (from python-dateutil<3.0.0,>=2.1->botocore<1.20.0,>=1.19.51->boto3) (1.15.0)\n",
            "\u001b[31mERROR: requests 2.23.0 has requirement urllib3!=1.25.0,!=1.25.1,<1.26,>=1.21.1, but you'll have urllib3 1.26.2 which is incompatible.\u001b[0m\n",
            "\u001b[31mERROR: datascience 0.10.6 has requirement folium==0.2.1, but you'll have folium 0.8.3 which is incompatible.\u001b[0m\n",
            "Installing collected packages: urllib3, jmespath, botocore, s3transfer, boto3\n",
            "  Found existing installation: urllib3 1.24.3\n",
            "    Uninstalling urllib3-1.24.3:\n",
            "      Successfully uninstalled urllib3-1.24.3\n",
            "Successfully installed boto3-1.16.51 botocore-1.19.51 jmespath-0.10.0 s3transfer-0.3.3 urllib3-1.26.2\n"
          ],
          "name": "stdout"
        },
        {
          "output_type": "display_data",
          "data": {
            "application/vnd.colab-display-data+json": {
              "pip_warning": {
                "packages": [
                  "urllib3"
                ]
              }
            }
          },
          "metadata": {
            "tags": []
          }
        },
        {
          "output_type": "stream",
          "text": [
            "Downloading annotations_trainval2017.zip\n",
            "Downloading val2017.zip\n",
            "Finished downloading annotations_trainval2017.zip . Starting to unzip.\n",
            "Finished downloading val2017.zip . Starting to unzip.\n",
            "Finished unzipping annotations_trainval2017.zip\n",
            "Downloading train2017.zip\n",
            "Finished unzipping val2017.zip\n",
            "Finished downloading train2017.zip . Starting to unzip.\n",
            "Finished unzipping train2017.zip\n",
            "Done transferring all datasets\n"
          ],
          "name": "stdout"
        }
      ]
    },
    {
      "cell_type": "code",
      "metadata": {
        "id": "Z_h2b_sJWoH2"
      },
      "source": [
        ""
      ],
      "execution_count": null,
      "outputs": []
    }
  ]
}